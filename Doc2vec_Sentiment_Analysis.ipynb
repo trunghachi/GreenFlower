{
  "nbformat": 4,
  "nbformat_minor": 0,
  "metadata": {
    "kernelspec": {
      "display_name": "Python 2",
      "language": "python",
      "name": "python2"
    },
    "language_info": {
      "codemirror_mode": {
        "name": "ipython",
        "version": 2
      },
      "file_extension": ".py",
      "mimetype": "text/x-python",
      "name": "python",
      "nbconvert_exporter": "python",
      "pygments_lexer": "ipython2",
      "version": "2.7.12"
    },
    "colab": {
      "name": "Doc2vec Sentiment Analysis.ipynb",
      "provenance": [],
      "collapsed_sections": [],
      "include_colab_link": true
    }
  },
  "cells": [
    {
      "cell_type": "markdown",
      "metadata": {
        "id": "view-in-github",
        "colab_type": "text"
      },
      "source": [
        "<a href=\"https://colab.research.google.com/github/trunghachi/GreenFlower/blob/master/Doc2vec_Sentiment_Analysis.ipynb\" target=\"_parent\"><img src=\"https://colab.research.google.com/assets/colab-badge.svg\" alt=\"Open In Colab\"/></a>"
      ]
    },
    {
      "cell_type": "markdown",
      "metadata": {
        "id": "9z6cnVzyg4xr"
      },
      "source": [
        "Ví dụ từ https://github.com/duyet/doc2vec-sentiment\n",
        "\n",
        "Sự thành công của Word2vec đã được chứng minh trong rất nhiều công trình NLP. \n",
        "\n",
        "Nhắc lại về Word2vec, nó sử dụng 1 tập copus, qua một mạng Neural biểu diễn các word thành các vector, các vector giữ lại được tính chất ngữ nghĩa. Tức các từ mang ý nghĩa similar với nhau thì gần nhau trong không gian vector. Trong NLP, đây một trong những phương thức của **word embedding**. Word2vec hiện nay được sử dụng hết sức rộng rãi.\n",
        "\n",
        "Với Doc2vec, ngoài từ (word), ta còn có thể biểu diễn các câu (sentences) thậm chí 1 đoạn văn bản (document). Khi đó, bạn có thể dễ dàng vector hóa cả một đoạn văn bản thành một vector có số chiều cố định và nhỏ, từ đó có thể chạy bất cứ thuật toán classification cơ bản nào trên các vector đó. \n",
        "\n",
        "Trong notebook này, mình sẽ giới thiệu rất cơ bản basic concept để các bạn có thể hình dung Sentiment sử dụng Doc2vec như thế nào.\n"
      ]
    },
    {
      "cell_type": "markdown",
      "metadata": {
        "id": "QyFzsL4bg4xv"
      },
      "source": [
        "# Doc2vec\n",
        "\n",
        "Doc2vec được giới thiệu bởi Google ([https://arxiv.org/pdf/1507.07998v1.pdf](https://arxiv.org/pdf/1507.07998v1.pdf)), cũng như Word2vec, có 2 model chính là: **DBOW** và **DM**\n",
        "\n",
        "*  **DBOW** (distributed bag of words): Mô hình này đơn giản là không quan tâm thứ tự các từ, training nhanh hơn, không sử dụng local-context/neighboring. Mô hình chèn thêm 1 \"word\" là ParagraphID, ParagraphID này đại diện cho văn bản được training. Sau khi training xong có thể hiểu các vector ParagraphID này là vector embedded của các văn bản. Hình ảnh được mô tả trong bài báo:\n",
        "\n",
        "![DBOW](https://github.com/duyet/doc2vec-sentiment/blob/master/doc2vec_dbow.jpg?raw=1)\n",
        "\n",
        "* **DM** (distributed memory): xem một paragraph là một từ, sau đó nối từ này vào tập các từ trong câu. Trong quá trình training, vector của paragraph và vector từ đều được update.\n",
        "\n",
        "![DM](https://github.com/duyet/doc2vec-sentiment/blob/master/doc2vec_dm.jpg?raw=1)\n",
        "\n",
        "\n",
        "Tóm lại: ta xem văn bản như là một từ, docID/paragraphID được biểu diễn dạng 1-hot, được embedded vào không gian vector."
      ]
    },
    {
      "cell_type": "markdown",
      "metadata": {
        "id": "soxsMLEFg4xw"
      },
      "source": [
        "# Setup"
      ]
    },
    {
      "cell_type": "markdown",
      "metadata": {
        "id": "RM8OnR6mg4xw"
      },
      "source": [
        "## Modules \n",
        "\n",
        "Mình sử dụng `gensim`, `gensim` được implement Word2vec lẫn Doc2vec, tài liệu rất dễ đọc.\n",
        "Ngoài ra còn có `numpy` để thao tác trên array, `sklearn` cho các thuật toán phân lớp. "
      ]
    },
    {
      "cell_type": "code",
      "metadata": {
        "id": "BLSMy-2rg4xx"
      },
      "source": [
        "%matplotlib inline\n",
        "\n",
        "# gensim modules\n",
        "from gensim import utils\n",
        "from gensim.models.doc2vec import LabeledSentence\n",
        "from gensim.models import Doc2Vec\n",
        "\n",
        "# numpy\n",
        "import numpy as np\n",
        "\n",
        "# classifier\n",
        "from sklearn.linear_model import LogisticRegression\n",
        "from sklearn.svm import SVC\n",
        "from sklearn.metrics import confusion_matrix\n",
        "from sklearn.metrics import accuracy_score\n",
        "\n",
        "# random, itertools, matplotlib\n",
        "import random\n",
        "import itertools\n",
        "import matplotlib.pyplot as plt"
      ],
      "execution_count": null,
      "outputs": []
    },
    {
      "cell_type": "markdown",
      "metadata": {
        "id": "8rx3Kq-Ug4xx"
      },
      "source": [
        "## Data\n",
        "\n",
        "Mình có các tập data để training, gồm training và testing như sau:\n",
        "\n",
        "* `test-neg.txt`: 12500 negative movie reviews from the test data\n",
        "* `test-pos.txt`: 12500 positive movie reviews from the test data\n",
        "* `train-neg.txt`: 12500 negative movie reviews from the training data\n",
        "* `train-pos.txt`: 12500 positive movie reviews from the training data\n",
        "* `train-unsup.txt`: 50000 Unlabelled movie reviews\n",
        "\n",
        "Trong mỗi file data, 1 đoạn văn bản trên một dòng:\n",
        "\n",
        "```\n",
        "once again mr costner has dragged out a movie for far longer than necessary aside from the terrific sea rescue sequences of...\n",
        "this is an example of why the majority of action films are the same generic and boring there s really nothing worth watching...\n",
        "this film grate at the teeth and i m still wondering what the heck bill paxton was doing in this film and why the heck does...\n",
        "```"
      ]
    },
    {
      "cell_type": "markdown",
      "metadata": {
        "id": "A6g6wSypg4xy"
      },
      "source": [
        "## Input data vào Doc2vec\n",
        "\n",
        "Doc2vec của `gensim` input một object `LabeledSentence`, gồm 1 tập các từ kèm theo `label` (id của paragraph), có format như sau:\n",
        "\n",
        "```python\n",
        "[['word1', 'word2', 'word3', 'lastword'], ['label1']]\n",
        "```\n",
        "\n",
        "Ta sẽ viết class `LabeledLineSentence` để đọc data txt, yield ra object `LabeledSentence` để `gensim` có thể hiểu. "
      ]
    },
    {
      "cell_type": "code",
      "metadata": {
        "collapsed": true,
        "id": "9BO-jSMmg4xy"
      },
      "source": [
        "class LabeledLineSentence(object):\n",
        "    def __init__(self, sources):\n",
        "        self.sources = sources\n",
        "        \n",
        "        flipped = {}\n",
        "        \n",
        "        # make sure that keys are unique\n",
        "        for key, value in sources.items():\n",
        "            if value not in flipped:\n",
        "                flipped[value] = [key]\n",
        "            else:\n",
        "                raise Exception('Non-unique prefix encountered')\n",
        "    \n",
        "    def __iter__(self):\n",
        "        for source, prefix in self.sources.items():\n",
        "            with utils.smart_open(source) as fin:\n",
        "                for item_no, line in enumerate(fin):\n",
        "                    yield LabeledSentence(utils.to_unicode(line).split(), [prefix + '_%s' % item_no])\n",
        "    \n",
        "    def to_array(self):\n",
        "        self.sentences = []\n",
        "        for source, prefix in self.sources.items():\n",
        "            with utils.smart_open(source) as fin:\n",
        "                for item_no, line in enumerate(fin):\n",
        "                    self.sentences.append(LabeledSentence(utils.to_unicode(line).split(), [prefix + '_%s' % item_no]))\n",
        "        return self.sentences\n",
        "    \n",
        "    def sentences_perm(self):\n",
        "        shuffled = list(self.sentences)\n",
        "        random.shuffle(shuffled)\n",
        "        return shuffled"
      ],
      "execution_count": null,
      "outputs": []
    },
    {
      "cell_type": "markdown",
      "metadata": {
        "id": "Rbx8FtDQg4xz"
      },
      "source": [
        "Ok bây giờ chúng ta feed data files vào `LabeledLineSentence`, `LabeledLineSentence` input 1 dict với key là tên file, value là `prefix` của các sentences trong văn bản.  "
      ]
    },
    {
      "cell_type": "code",
      "metadata": {
        "collapsed": true,
        "id": "4mwzragYg4xz"
      },
      "source": [
        "sources = {\n",
        "    'data/test-neg.txt':'TEST_NEG',\n",
        "    'data/test-pos.txt':'TEST_POS', \n",
        "    'data/train-neg.txt':'TRAIN_NEG', \n",
        "    'data/train-pos.txt':'TRAIN_POS', \n",
        "    'data/train-unsup.txt':'TRAIN_UNS'\n",
        "}\n",
        "\n",
        "sentences = LabeledLineSentence(sources)"
      ],
      "execution_count": null,
      "outputs": []
    },
    {
      "cell_type": "markdown",
      "metadata": {
        "id": "yByYm9TFg4xz"
      },
      "source": [
        "# Model"
      ]
    },
    {
      "cell_type": "markdown",
      "metadata": {
        "id": "0vSOTP_dg4xz"
      },
      "source": [
        "## Building the Vocabulary Table\n",
        "\n",
        "Trước tiên Doc2vec yêu cầu build Vocabulary table, 1 tập chứa tất cả các từ, lọc bỏ các từ trùng lặp, thực hiện một số thống kê. \n",
        "Chúng ta có một số tham số như sau:\n",
        "\n",
        "* *min_count*: lọc bỏ tất cả các từ khỏi từ điển có số lần xuất hiện nhỏ hơn `min_count`.\n",
        "* *window*: khoảng cách tối đa của từ hiện tại và từ predicted. Tương tự `window` trong Skip-gram model.\n",
        "* *size*: số chiều của vector embedded. Thường từ trong khoảng 100-400 cho kết quả tối ưu. \n",
        "* *workers*: Số worker threads (set bằng số core của máy)."
      ]
    },
    {
      "cell_type": "code",
      "metadata": {
        "scrolled": true,
        "id": "kde689jgg4x0"
      },
      "source": [
        "model = Doc2Vec(min_count=1, window=10, size=100, sample=1e-4, negative=5, workers=7)\n",
        "\n",
        "model.build_vocab(sentences.to_array())\n"
      ],
      "execution_count": null,
      "outputs": []
    },
    {
      "cell_type": "markdown",
      "metadata": {
        "id": "w5WEkmqqg4x0"
      },
      "source": [
        "## Training Doc2Vec\n",
        "\n",
        "Mình sẽ train model với 10 epochs. Nếu có thời gian bạn có thể chọn 20 hoặc 50 epochs. Mỗi epochs là một lần training trên toàn bộ dữ liệu.\n",
        "\n",
        "Phần này có thể tốn rất nhiều thời gian, tùy cấu hình máy bạn như thế nào. "
      ]
    },
    {
      "cell_type": "code",
      "metadata": {
        "id": "HlIwez-dg4x0",
        "outputId": "6774bd7f-24e4-4994-80ed-e934524a04ed"
      },
      "source": [
        "model.train(sentences.sentences_perm(), total_examples=model.corpus_count, epochs=10)"
      ],
      "execution_count": null,
      "outputs": [
        {
          "output_type": "execute_result",
          "data": {
            "text/plain": [
              "58167577"
            ]
          },
          "metadata": {
            "tags": []
          },
          "execution_count": 9
        }
      ]
    },
    {
      "cell_type": "markdown",
      "metadata": {
        "id": "mTOUbPdvg4x1"
      },
      "source": [
        "## Inspecting the Model\n",
        "\n",
        "Sau khi training, chúng ta có được các vector từ và vector văn bản. Tìm similarity của một từ (theo khoảng cách cosine)."
      ]
    },
    {
      "cell_type": "code",
      "metadata": {
        "scrolled": true,
        "id": "iP3PjcVCg4x1",
        "outputId": "1a986e88-ffa9-40b3-fce7-3eedee5d36b6"
      },
      "source": [
        "model.most_similar('good')"
      ],
      "execution_count": null,
      "outputs": [
        {
          "output_type": "execute_result",
          "data": {
            "text/plain": [
              "[(u'great', 0.7514600157737732),\n",
              " (u'decent', 0.7394523620605469),\n",
              " (u'bad', 0.6599287986755371),\n",
              " (u'nice', 0.6548842191696167),\n",
              " (u'solid', 0.6304105520248413),\n",
              " (u'fine', 0.6300679445266724),\n",
              " (u'excellent', 0.619133710861206),\n",
              " (u'terrific', 0.5940879583358765),\n",
              " (u'fantastic', 0.5322197675704956),\n",
              " (u'poor', 0.5300629734992981)]"
            ]
          },
          "metadata": {
            "tags": []
          },
          "execution_count": 10
        }
      ]
    },
    {
      "cell_type": "markdown",
      "metadata": {
        "id": "DmnMVEaug4x1"
      },
      "source": [
        "Vector của một đoạn văn trong tập negative reviews:"
      ]
    },
    {
      "cell_type": "code",
      "metadata": {
        "id": "kzS6aAY2g4x2",
        "outputId": "1f433c0f-18e0-4061-a0a6-b4e1600d315c"
      },
      "source": [
        "model.docvecs['TRAIN_NEG_0']"
      ],
      "execution_count": null,
      "outputs": [
        {
          "output_type": "execute_result",
          "data": {
            "text/plain": [
              "array([ -1.01556428e-01,  -3.56465846e-01,   3.44622403e-01,\n",
              "         8.42040837e-01,   3.27622980e-01,  -1.11577833e+00,\n",
              "        -2.24954560e-01,  -5.04830778e-01,  -1.88524842e-01,\n",
              "         1.36966994e-02,  -1.20956969e+00,  -1.48627579e-01,\n",
              "        -9.34836924e-01,  -1.52438581e-01,   2.31746025e-03,\n",
              "         4.67331141e-01,   2.05392256e-01,   3.45028825e-02,\n",
              "         1.80151880e-01,  -5.39694607e-01,  -6.49884492e-02,\n",
              "         1.35365915e+00,  -5.30167639e-01,   5.87864697e-01,\n",
              "         7.33038425e-01,   8.35742176e-01,   7.98877537e-01,\n",
              "         2.99303561e-01,   2.93371022e-01,  -2.80979633e-01,\n",
              "         5.45228899e-01,   7.07931161e-01,  -6.89087927e-01,\n",
              "         4.84656468e-02,  -5.57627855e-03,   7.30554581e-01,\n",
              "        -5.21582305e-01,   1.05067813e+00,  -3.70394111e-01,\n",
              "         2.97508329e-01,   4.00131464e-01,  -6.46517992e-01,\n",
              "         1.84185669e-01,   3.36585194e-01,  -1.15013385e+00,\n",
              "         5.34893453e-01,   1.59992184e-02,  -2.28792682e-01,\n",
              "         6.48893565e-02,   3.11440937e-02,   6.16704404e-01,\n",
              "        -6.95472300e-01,   3.94805223e-02,   2.85410255e-01,\n",
              "        -9.06684458e-01,  -1.28736183e-01,  -1.12453914e+00,\n",
              "         6.06737316e-01,   2.80621439e-01,  -9.90474075e-02,\n",
              "        -4.19577152e-01,   2.71253318e-01,  -3.55639100e-01,\n",
              "        -3.38494778e-01,   1.36651471e-01,  -9.72368240e-01,\n",
              "        -8.00259411e-01,  -3.47543478e-01,   4.80288565e-01,\n",
              "        -9.50436354e-01,  -8.92068386e-01,   3.37435633e-01,\n",
              "         6.15804553e-01,   6.83737099e-01,  -4.11141992e-01,\n",
              "         1.23218540e-03,   2.87384093e-01,  -3.08767110e-01,\n",
              "        -1.81789771e-01,   1.44422725e-01,  -3.68610471e-01,\n",
              "        -2.94102520e-01,  -6.52851164e-01,  -3.40763658e-01,\n",
              "         7.20147192e-01,  -8.44810545e-01,  -2.64881551e-01,\n",
              "         1.91416308e-01,   5.62043667e-01,   9.71307516e-01,\n",
              "         4.49034691e-01,  -3.56171519e-01,  -5.25792062e-01,\n",
              "        -2.70297438e-01,   3.60254765e-01,   3.01170051e-01,\n",
              "        -3.10191274e-01,  -8.09229612e-02,  -8.08758587e-02,\n",
              "         8.15131485e-01], dtype=float32)"
            ]
          },
          "metadata": {
            "tags": []
          },
          "execution_count": 26
        }
      ]
    },
    {
      "cell_type": "markdown",
      "metadata": {
        "id": "94K9mEU-g4x2"
      },
      "source": [
        "## Saving and Loading Models\n",
        "\n",
        "Lưu xuống và tái sử dụng"
      ]
    },
    {
      "cell_type": "code",
      "metadata": {
        "collapsed": true,
        "id": "E4_oS4ZTg4x5"
      },
      "source": [
        "model.save('./imdb.d2v')"
      ],
      "execution_count": null,
      "outputs": []
    },
    {
      "cell_type": "markdown",
      "metadata": {
        "id": "0KoU2hXeg4x5"
      },
      "source": [
        "Khi sử dụng, model chỉ cần load lại "
      ]
    },
    {
      "cell_type": "code",
      "metadata": {
        "collapsed": true,
        "id": "bn82qImng4x6"
      },
      "source": [
        "model = Doc2Vec.load('./imdb.d2v')"
      ],
      "execution_count": null,
      "outputs": []
    },
    {
      "cell_type": "markdown",
      "metadata": {
        "id": "5KtFL3XEg4x6"
      },
      "source": [
        "# Classifying Sentiments\n",
        "\n",
        "Từ các vector văn bản trên, ta có thể sử dụng chúng để huấn luyện các bộ phân lớp. Trước tiên mình extract các vector này từ Doc2vec ra. Ở trên chúng ta có 25000 đoạn training reviews (12500 positive, 12500 negative), tức chúng ta sẽ có 25000 vector.\n",
        "\n",
        "Chúng ta tạo 2 biến `X_train` và `y_train` để lưu lại các vectors và labels tương ứng. "
      ]
    },
    {
      "cell_type": "code",
      "metadata": {
        "collapsed": true,
        "id": "YWM1zY53g4x6"
      },
      "source": [
        "X_train = np.zeros((25000, 100))\n",
        "y_train = np.zeros(25000)\n",
        "\n",
        "for i in range(12500):\n",
        "    prefix_train_pos = 'TRAIN_POS_' + str(i)\n",
        "    prefix_train_neg = 'TRAIN_NEG_' + str(i)\n",
        "    X_train[i] = model.docvecs[prefix_train_pos]\n",
        "    X_train[12500 + i] = model.docvecs[prefix_train_neg]\n",
        "    y_train[i] = 1\n",
        "    y_train[12500 + i] = 0"
      ],
      "execution_count": null,
      "outputs": []
    },
    {
      "cell_type": "markdown",
      "metadata": {
        "id": "5b3WszDDg4x7"
      },
      "source": [
        "`X_train` sẽ là một list các vector:"
      ]
    },
    {
      "cell_type": "code",
      "metadata": {
        "id": "AV5GlovLg4x7",
        "outputId": "8e42acd2-2f20-47eb-f3b9-abdafdcf6f70"
      },
      "source": [
        "print X_train"
      ],
      "execution_count": null,
      "outputs": [
        {
          "output_type": "stream",
          "text": [
            "[[ 0.07835239 -0.74710965  0.69579625 ...,  1.26008689 -0.20882945\n",
            "   0.15453815]\n",
            " [-0.30765828 -1.3621341  -0.04978399 ...,  1.82920146  0.83890873\n",
            "  -1.24059582]\n",
            " [ 0.43396333  0.55141008  1.10285032 ..., -0.00459967 -1.20170486\n",
            "   0.24269094]\n",
            " ..., \n",
            " [-0.0061076   1.02311051  1.14070487 ...,  0.43794197 -1.44546068\n",
            "   0.92352289]\n",
            " [-0.66359657 -0.14818916 -0.00780609 ..., -0.23638545  0.11614358\n",
            "   0.30252352]\n",
            " [ 0.48667926  0.21486095 -0.06502845 ...,  0.73961246  0.17024654\n",
            "   0.49861109]]\n"
          ],
          "name": "stdout"
        }
      ]
    },
    {
      "cell_type": "markdown",
      "metadata": {
        "id": "gKaIAY7_g4x7"
      },
      "source": [
        "`y_train` sẽ là một list các label tương ứng, label 1: positive, label 0: negative."
      ]
    },
    {
      "cell_type": "code",
      "metadata": {
        "id": "ZLFzPUYMg4x7",
        "outputId": "c7b989d6-1f9a-4a74-f037-a06dc5a22ce0"
      },
      "source": [
        "print y_train"
      ],
      "execution_count": null,
      "outputs": [
        {
          "output_type": "stream",
          "text": [
            "[ 1.  1.  1. ...,  0.  0.  0.]\n"
          ],
          "name": "stdout"
        }
      ]
    },
    {
      "cell_type": "markdown",
      "metadata": {
        "id": "8MIweAg3g4x8"
      },
      "source": [
        "## Testing Vectors\n",
        "\n",
        "Tương tự với các vector để test"
      ]
    },
    {
      "cell_type": "code",
      "metadata": {
        "collapsed": true,
        "id": "KwcPSl0vg4x8"
      },
      "source": [
        "X_test = np.zeros((25000, 100))\n",
        "y_test = np.zeros(25000)\n",
        "\n",
        "for i in range(12500):\n",
        "    prefix_test_pos = 'TEST_POS_' + str(i)\n",
        "    prefix_test_neg = 'TEST_NEG_' + str(i)\n",
        "    X_test[i] = model.docvecs[prefix_test_pos]\n",
        "    X_test[12500 + i] = model.docvecs[prefix_test_neg]\n",
        "    y_test[i] = 1\n",
        "    y_test[12500 + i] = 0"
      ],
      "execution_count": null,
      "outputs": []
    },
    {
      "cell_type": "markdown",
      "metadata": {
        "id": "MkwYaOeYg4x8"
      },
      "source": [
        "# Classification\n",
        "\n",
        "Từ đây bạn có thể sử dụng bất cứ thuật toán phân lớp nào, bạn có thể thực hiện tiếp bước **model selection** đến khi nào đạt kết quả tốt nhất. Ở đây mình sử dụng **Logistic Regression** và **SVM**"
      ]
    },
    {
      "cell_type": "code",
      "metadata": {
        "id": "eb6uYSUsg4x8",
        "outputId": "b1f013f5-c7bd-49b4-c1b7-6987315a8808"
      },
      "source": [
        "classifier = LogisticRegression()\n",
        "classifier.fit(X_train, y_train)"
      ],
      "execution_count": null,
      "outputs": [
        {
          "output_type": "execute_result",
          "data": {
            "text/plain": [
              "LogisticRegression(C=1.0, class_weight=None, dual=False, fit_intercept=True,\n",
              "          intercept_scaling=1, max_iter=100, multi_class='ovr', n_jobs=1,\n",
              "          penalty='l2', random_state=None, solver='liblinear', tol=0.0001,\n",
              "          verbose=0, warm_start=False)"
            ]
          },
          "metadata": {
            "tags": []
          },
          "execution_count": 33
        }
      ]
    },
    {
      "cell_type": "markdown",
      "metadata": {
        "id": "9Ax-V8YUg4x8"
      },
      "source": [
        "Độ chính xác của thuật toán và confusion matrix:"
      ]
    },
    {
      "cell_type": "markdown",
      "metadata": {
        "id": "9Onno_O1g4x8"
      },
      "source": [
        "Vẽ confusion matrix"
      ]
    },
    {
      "cell_type": "code",
      "metadata": {
        "id": "IMBju5nmg4x9",
        "outputId": "ffae621e-e894-4e5f-9543-0f4e4997a79b"
      },
      "source": [
        "def plot_confusion_matrix(cm, classes,\n",
        "                          normalize=False,\n",
        "                          title='Confusion matrix',\n",
        "                          cmap=plt.cm.Blues):\n",
        "    \"\"\"\n",
        "    See full source and example: \n",
        "    http://scikit-learn.org/stable/auto_examples/model_selection/plot_confusion_matrix.html\n",
        "    \n",
        "    This function prints and plots the confusion matrix.\n",
        "    Normalization can be applied by setting `normalize=True`.\n",
        "    \"\"\"\n",
        "    plt.imshow(cm, interpolation='nearest', cmap=cmap)\n",
        "    plt.title(title)\n",
        "    plt.colorbar()\n",
        "    tick_marks = np.arange(len(classes))\n",
        "    plt.xticks(tick_marks, classes, rotation=45)\n",
        "    plt.yticks(tick_marks, classes)\n",
        "\n",
        "    if normalize:\n",
        "        cm = cm.astype('float') / cm.sum(axis=1)[:, np.newaxis]\n",
        "        print(\"Normalized confusion matrix\")\n",
        "    else:\n",
        "        print('Confusion matrix, without normalization')\n",
        "\n",
        "    thresh = cm.max() / 2.\n",
        "    for i, j in itertools.product(range(cm.shape[0]), range(cm.shape[1])):\n",
        "        plt.text(j, i, cm[i, j],\n",
        "                 horizontalalignment=\"center\",\n",
        "                 color=\"white\" if cm[i, j] > thresh else \"black\")\n",
        "\n",
        "    plt.tight_layout()\n",
        "    plt.ylabel('True label')\n",
        "    plt.xlabel('Predicted label')\n",
        "\n",
        "print 'Accuracy', classifier.score(X_test, y_test)\n",
        "y_pred = classifier.predict(X_test)\n",
        "cm = confusion_matrix(y_test, y_pred, labels=[0, 1])\n",
        "plot_confusion_matrix(cm, classes=['neg', 'pos'])"
      ],
      "execution_count": null,
      "outputs": [
        {
          "output_type": "stream",
          "text": [
            "Accuracy 0.86376\n",
            "Confusion matrix, without normalization\n"
          ],
          "name": "stdout"
        },
        {
          "output_type": "display_data",
          "data": {
            "image/png": "[encoded data removed]",
            "text/plain": [
              "<matplotlib.figure.Figure at 0x7f353a9d9190>"
            ]
          },
          "metadata": {
            "tags": []
          }
        }
      ]
    },
    {
      "cell_type": "markdown",
      "metadata": {
        "id": "UvJHGlbDg4x9"
      },
      "source": [
        "Ok, chúng ta có **87% accuracy** cho sentiment analysis với **Logistic Regression**."
      ]
    },
    {
      "cell_type": "markdown",
      "metadata": {
        "id": "pIBMr1BBg4x9"
      },
      "source": [
        "Thử với **SVM**"
      ]
    },
    {
      "cell_type": "code",
      "metadata": {
        "id": "-VUdtKeSg4x-",
        "outputId": "7be89944-598f-4c98-aaa1-f3e518b14bff"
      },
      "source": [
        "classifier = SVC()\n",
        "classifier.fit(X_train, y_train)\n",
        "\n",
        "print 'Accuracy', classifier.score(X_test, y_test)\n",
        "y_pred = classifier.predict(X_test)\n",
        "cm = confusion_matrix(y_test, y_pred, labels=[0, 1])\n",
        "plot_confusion_matrix(cm, classes=['neg', 'pos'])\n"
      ],
      "execution_count": null,
      "outputs": [
        {
          "output_type": "stream",
          "text": [
            "Accuracy 0.86708\n",
            "Confusion matrix, without normalization\n"
          ],
          "name": "stdout"
        },
        {
          "output_type": "display_data",
          "data": {
            "image/png": "[encoded data removed]",
            "text/plain": [
              "<matplotlib.figure.Figure at 0x7f353b2f02d0>"
            ]
          },
          "metadata": {
            "tags": []
          }
        }
      ]
    },
    {
      "cell_type": "markdown",
      "metadata": {
        "id": "xN25KI74g4x-"
      },
      "source": [
        "**SVM** cho kết quả tương tự, vẫn khá tốt ~ 86%"
      ]
    },
    {
      "cell_type": "code",
      "metadata": {
        "collapsed": true,
        "id": "xFpH_ws6g4x-"
      },
      "source": [
        ""
      ],
      "execution_count": null,
      "outputs": []
    }
  ]
}